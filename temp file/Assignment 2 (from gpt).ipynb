{
 "cells": [
  {
   "cell_type": "code",
   "execution_count": 8,
   "id": "e8a31851",
   "metadata": {},
   "outputs": [],
   "source": [
    "import random"
   ]
  },
  {
   "cell_type": "code",
   "execution_count": 9,
   "id": "a57b2fe2",
   "metadata": {},
   "outputs": [],
   "source": [
    "def c_look(requests, head):\n",
    "    \"\"\"\n",
    "    C-LOOK disk scheduling algorithm.\n",
    "    :param requests: List of cylinder requests\n",
    "    :param head: Current head position\n",
    "    :return: Total seek count\n",
    "    \"\"\"\n",
    "    size = len(requests)\n",
    "    distance = 0\n",
    "    cur_track = head\n",
    "\n",
    "    # Sort the request list\n",
    "    requests.sort()\n",
    "\n",
    "    # Start processing the requests\n",
    "    for i in range(size):\n",
    "        next_track = requests[i]\n",
    "        # Calculate the distance\n",
    "        distance += abs(cur_track - next_track)\n",
    "        # Update the current head position\n",
    "        cur_track = next_track\n",
    "\n",
    "    # Jumping back to the first request in the direction\n",
    "    if size != 0:\n",
    "        distance += abs(requests[0] - cur_track)\n",
    "        cur_track = requests[0]\n",
    "\n",
    "    return distance"
   ]
  },
  {
   "cell_type": "code",
   "execution_count": 10,
   "id": "5106f478",
   "metadata": {},
   "outputs": [],
   "source": [
    "# Initialize variables\n",
    "disk_size = 200\n",
    "initial_head_position = 50"
   ]
  },
  {
   "cell_type": "code",
   "execution_count": 11,
   "id": "bd4dc3ed",
   "metadata": {},
   "outputs": [],
   "source": [
    "# Different sets of requests\n",
    "request_sizes = [10, 20, 50, 100]"
   ]
  },
  {
   "cell_type": "code",
   "execution_count": 12,
   "id": "9c560570",
   "metadata": {},
   "outputs": [],
   "source": [
    "# Dictionary to store results\n",
    "results = {}"
   ]
  },
  {
   "cell_type": "code",
   "execution_count": 13,
   "id": "476c8c51",
   "metadata": {},
   "outputs": [],
   "source": [
    "# Run C-LOOK algorithm for different sizes of requests\n",
    "for size in request_sizes:\n",
    "    total_seek = 0\n",
    "    worst_seek = 0\n",
    "    for _ in range(1000): # Run 1000 simulations for each set of requests\n",
    "        requests = random.sample(range(disk_size), size)\n",
    "        seek = c_look(requests, initial_head_position)\n",
    "        total_seek += seek\n",
    "        worst_seek = max(worst_seek, seek)\n",
    "\n",
    "    # Calculate average and worst-case seek times\n",
    "    avg_seek = total_seek / 1000\n",
    "    results[size] = (avg_seek, worst_seek)"
   ]
  },
  {
   "cell_type": "code",
   "execution_count": 14,
   "id": "a561f5cb",
   "metadata": {},
   "outputs": [
    {
     "data": {
      "text/plain": [
       "{10: (363.714, 448),\n",
       " 20: (404.916, 448),\n",
       " 50: (433.59, 448),\n",
       " 100: (443.442, 448)}"
      ]
     },
     "execution_count": 14,
     "metadata": {},
     "output_type": "execute_result"
    }
   ],
   "source": [
    "results"
   ]
  },
  {
   "cell_type": "markdown",
   "id": "7b72d678",
   "metadata": {},
   "source": [
    "Analysis\n",
    "\n",
    "The average seek time increases with the number of requests. This is expected as more requests generally mean more movement for the disk head.\n",
    "\n",
    "The worst-case seek time remains constant at 448 cylinders for all sets of requests. This is because the worst-case scenario in C-LOOK is determined by the furthest request from the current head position, and since the disk size and head position are constant, the maximum possible seek distance doesn't change.\n",
    "\n",
    "The C-LOOK algorithm performs efficiently in terms of reducing the total back-and-forth movement of the disk head, as seen by the relatively low average seek times even for larger sets of requests. This makes it suitable for systems where minimizing the disk arm movement is crucial for performance."
   ]
  }
 ],
 "metadata": {
  "kernelspec": {
   "display_name": "Python 3 (ipykernel)",
   "language": "python",
   "name": "python3"
  },
  "language_info": {
   "codemirror_mode": {
    "name": "ipython",
    "version": 3
   },
   "file_extension": ".py",
   "mimetype": "text/x-python",
   "name": "python",
   "nbconvert_exporter": "python",
   "pygments_lexer": "ipython3",
   "version": "3.10.9"
  }
 },
 "nbformat": 4,
 "nbformat_minor": 5
}
