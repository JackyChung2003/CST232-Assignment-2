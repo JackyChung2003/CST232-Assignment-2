{
 "cells": [
  {
   "cell_type": "code",
   "execution_count": 131,
   "id": "e8a31851",
   "metadata": {},
   "outputs": [],
   "source": [
    "import random"
   ]
  },
  {
   "cell_type": "code",
   "execution_count": 132,
   "id": "d48ac652",
   "metadata": {},
   "outputs": [],
   "source": [
    "def c_scan(requests, head, disk_size):\n",
    "    current_position = head\n",
    "    seek_count = 0\n",
    "#     seek_sequence = []\n",
    "    worst_case_seek_time = 0\n",
    "    distance = 0\n",
    "\n",
    "    left = [0]\n",
    "    right = [disk_size - 1]\n",
    "\n",
    "    for req in requests:\n",
    "        if req < head:\n",
    "            left.append(req)\n",
    "        elif req > head:\n",
    "            right.append(req)\n",
    "\n",
    "    left.sort()\n",
    "    right.sort()\n",
    "\n",
    "    for track in right:\n",
    "#         seek_sequence.append(track)\n",
    "        distance = abs(track - current_position)\n",
    "        seek_count += distance\n",
    "        worst_case_seek_time = max(worst_case_seek_time, distance)\n",
    "        current_position = track\n",
    "    \n",
    "    \n",
    "    current_position = 0\n",
    "    distance = abs((disk_size - 1) - current_position)\n",
    "    seek_count += distance\n",
    "    worst_case_seek_time = max(worst_case_seek_time, distance)\n",
    "\n",
    "    for track in left:\n",
    "#         seek_sequence.append(track)\n",
    "        distance = abs(track - current_position)\n",
    "        seek_count += distance\n",
    "        worst_case_seek_time = max(worst_case_seek_time, distance)\n",
    "        current_position = track\n",
    "\n",
    "#     print(\"Total number of seek operations =\", seek_count)\n",
    "#     print(\"Worst-case Seek Time =\", worst_case_seek_time)\n",
    "#     print(\"Seek Sequence is\", *seek_sequence)\n",
    "\n",
    "    avg_seek_time = seek_count / len(requests)\n",
    "#     avg_seek_time = seek_count\n",
    "\n",
    "#     print(\"Average Seek Time =\", avg_seek_time)\n",
    "\n",
    " # Returning both average and worst-case seek times\n",
    "    return avg_seek_time, worst_case_seek_time"
   ]
  },
  {
   "cell_type": "code",
   "execution_count": 133,
   "id": "a57b2fe2",
   "metadata": {},
   "outputs": [],
   "source": [
    "def c_look(requests, head):\n",
    "    \"\"\"\n",
    "    C-LOOK disk scheduling algorithm.\n",
    "    :param requests: List of cylinder requests\n",
    "    :param head: Current head position\n",
    "    :return: Total seek count\n",
    "    \"\"\"\n",
    "    size = len(requests)\n",
    "    distance = 0\n",
    "    cur_track = head\n",
    "\n",
    "    # Sort the request list\n",
    "    requests.sort()\n",
    "\n",
    "    # Start processing the requests\n",
    "    for i in range(size):\n",
    "        next_track = requests[i]\n",
    "        # Calculate the distance\n",
    "        distance += abs(cur_track - next_track)\n",
    "        # Update the current head position\n",
    "        cur_track = next_track\n",
    "\n",
    "    # Jumping back to the first request in the direction\n",
    "    if size != 0:\n",
    "        distance += abs(requests[0] - cur_track)\n",
    "        cur_track = requests[0]\n",
    "\n",
    "    return distance"
   ]
  },
  {
   "cell_type": "code",
   "execution_count": 134,
   "id": "5106f478",
   "metadata": {},
   "outputs": [],
   "source": [
    "# Initialize variables\n",
    "disk_size = 200\n",
    "initial_head_position = 50\n",
    "num_simulations = 1000"
   ]
  },
  {
   "cell_type": "code",
   "execution_count": 135,
   "id": "bd4dc3ed",
   "metadata": {},
   "outputs": [],
   "source": [
    "# Different sets of requests\n",
    "request_sizes = [10, 20, 50, 100]"
   ]
  },
  {
   "cell_type": "code",
   "execution_count": 136,
   "id": "9c560570",
   "metadata": {},
   "outputs": [],
   "source": [
    "# Dictionary to store results\n",
    "results_c_scan = {}\n",
    "results_c_look = {}"
   ]
  },
  {
   "cell_type": "code",
   "execution_count": 137,
   "id": "64eddd66",
   "metadata": {},
   "outputs": [],
   "source": [
    "# def run_algorithm_simulation(algorithm, requests, request_sizes, initial_head_position, disk_size, num_simulations):\n",
    "#     results = {}\n",
    "\n",
    "#     for size in request_sizes:\n",
    "#         total_seek = 0\n",
    "#         worst_seek = 0\n",
    "\n",
    "#         for _ in range(num_simulations):\n",
    "# #             requests = random.sample(range(disk_size), size)\n",
    "#             seek = algorithm(requests, initial_head_position, disk_size)\n",
    "#             total_seek += seek\n",
    "#             worst_seek = max(worst_seek, seek)\n",
    "\n",
    "#         avg_seek = total_seek / num_simulations\n",
    "#         results[size] = (avg_seek, worst_seek)\n",
    "\n",
    "#     return results"
   ]
  },
  {
   "cell_type": "code",
   "execution_count": 138,
   "id": "476c8c51",
   "metadata": {},
   "outputs": [],
   "source": [
    "# # Run C-LOOK algorithm for different sizes of requests\n",
    "# for size in request_sizes:\n",
    "#     total_seek = 0\n",
    "#     worst_seek = 0\n",
    "#     for _ in range(1000): # Run 1000 simulations for each set of requests\n",
    "#         requests = random.sample(range(disk_size), size)\n",
    "#         seek = c_look(requests, initial_head_position)\n",
    "#         total_seek += seek\n",
    "#         worst_seek = max(worst_seek, seek)\n",
    "\n",
    "#     # Calculate average and worst-case seek times\n",
    "#     avg_seek = total_seek / 1000\n",
    "#     results[size] = (avg_seek, worst_seek)"
   ]
  },
  {
   "cell_type": "code",
   "execution_count": 139,
   "id": "3ddd5d9c",
   "metadata": {},
   "outputs": [],
   "source": [
    "# Run C-LOOK algorithm for different sizes of requests\n",
    "for size in request_sizes:\n",
    "    \n",
    "    total_seek_c_scan = 0\n",
    "    worst_seek_c_scan = 0\n",
    "    \n",
    "    total_seek_c_look = 0\n",
    "    worst_seek_c_look = 0\n",
    "    for _ in range(1000): # Run 1000 simulations for each set of requests\n",
    "        requests = random.sample(range(disk_size), size)\n",
    "        \n",
    "        seek_c_scan,worst_seek_c_scan_temp = c_scan(requests,initial_head_position,disk_size)\n",
    "        total_seek_c_scan += seek_c_scan\n",
    "        worst_seek_c_scan = max(worst_seek_c_scan, worst_seek_c_scan_temp)\n",
    "        \n",
    "        seek_c_look = c_look(requests, initial_head_position)\n",
    "        total_seek_c_look += seek_c_look\n",
    "        worst_seek_c_look = max(worst_seek_c_look, seek_c_look)\n",
    "\n",
    "    # Calculate average and worst-case seek times\n",
    "    avg_seek_c_scan = total_seek_c_scan / 1000\n",
    "    results_c_scan[size] = (avg_seek_c_scan,worst_seek_c_scan)\n",
    "    \n",
    "    avg_seek_c_look = total_seek_c_look / 1000\n",
    "    results_c_look[size] = (avg_seek_c_look, worst_seek_c_look)"
   ]
  },
  {
   "cell_type": "code",
   "execution_count": 140,
   "id": "a561f5cb",
   "metadata": {
    "scrolled": true
   },
   "outputs": [
    {
     "data": {
      "text/plain": [
       "{10: (38.00750000000001, 199),\n",
       " 20: (19.408349999999984, 199),\n",
       " 50: (7.8816199999999546, 199),\n",
       " 100: (3.9597099999999577, 199)}"
      ]
     },
     "execution_count": 140,
     "metadata": {},
     "output_type": "execute_result"
    }
   ],
   "source": [
    "results_c_scan\n"
   ]
  },
  {
   "cell_type": "code",
   "execution_count": 141,
   "id": "d8f32c45",
   "metadata": {},
   "outputs": [
    {
     "data": {
      "text/plain": [
       "{10: (360.538, 448),\n",
       " 20: (405.891, 448),\n",
       " 50: (432.802, 448),\n",
       " 100: (442.946, 448)}"
      ]
     },
     "execution_count": 141,
     "metadata": {},
     "output_type": "execute_result"
    }
   ],
   "source": [
    "results_c_look"
   ]
  },
  {
   "cell_type": "markdown",
   "id": "7b72d678",
   "metadata": {},
   "source": [
    "Analysis\n",
    "\n",
    "The average seek time increases with the number of requests. This is expected as more requests generally mean more movement for the disk head.\n",
    "\n",
    "The worst-case seek time remains constant at 448 cylinders for all sets of requests. This is because the worst-case scenario in C-LOOK is determined by the furthest request from the current head position, and since the disk size and head position are constant, the maximum possible seek distance doesn't change.\n",
    "\n",
    "The C-LOOK algorithm performs efficiently in terms of reducing the total back-and-forth movement of the disk head, as seen by the relatively low average seek times even for larger sets of requests. This makes it suitable for systems where minimizing the disk arm movement is crucial for performance."
   ]
  }
 ],
 "metadata": {
  "kernelspec": {
   "display_name": "Python 3 (ipykernel)",
   "language": "python",
   "name": "python3"
  },
  "language_info": {
   "codemirror_mode": {
    "name": "ipython",
    "version": 3
   },
   "file_extension": ".py",
   "mimetype": "text/x-python",
   "name": "python",
   "nbconvert_exporter": "python",
   "pygments_lexer": "ipython3",
   "version": "3.10.9"
  }
 },
 "nbformat": 4,
 "nbformat_minor": 5
}
